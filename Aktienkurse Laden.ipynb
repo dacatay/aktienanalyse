{
 "cells": [
  {
   "cell_type": "markdown",
   "metadata": {},
   "source": [
    "# Aktienkurse kostenlos herunterladen mit Python\n",
    "\n",
    "Dies ist der begleitende Code zum Artikel "
   ]
  },
  {
   "cell_type": "markdown",
   "metadata": {},
   "source": [
    "## Import"
   ]
  },
  {
   "cell_type": "code",
   "execution_count": 1,
   "metadata": {},
   "outputs": [],
   "source": [
    "import pandas as pd\n",
    "import yfinance as yf\n",
    "import datetime\n",
    "import time\n",
    "from datetime import timedelta"
   ]
  },
  {
   "cell_type": "markdown",
   "metadata": {},
   "source": [
    "## Die Downloadfuntion"
   ]
  },
  {
   "cell_type": "code",
   "execution_count": 2,
   "metadata": {},
   "outputs": [],
   "source": [
    "def fetch_yfinance_data(ticker, history):\n",
    "    \n",
    "    end = datetime.datetime.today()\n",
    "    start = end - timedelta(days=history)\n",
    "    \n",
    "    try:\n",
    "        print(f'Fetching {ticker} data...')\n",
    "        data = yf.Ticker(ticker)\n",
    "        \n",
    "        # download the data\n",
    "        df = data.history(start=start, end=end)\n",
    "        \n",
    "        # fill NaN with previous values\n",
    "        df.fillna(method='ffill', inplace= True)\n",
    "                \n",
    "        # save df to csv file\n",
    "        df.to_csv(f'./data/{ticker}.csv', sep=';', index=True, header=True)\n",
    "        print(f'Fetching {ticker} data complete.')\n",
    "        time.sleep(1)\n",
    "\n",
    "    except Exception as e:\n",
    "        print(f'Error fetching {ticker} data: ', e)\n",
    "        \n",
    "    return df"
   ]
  },
  {
   "cell_type": "markdown",
   "metadata": {},
   "source": [
    "## Ein Anwendungsbeispiel"
   ]
  },
  {
   "cell_type": "code",
   "execution_count": 5,
   "metadata": {},
   "outputs": [
    {
     "name": "stdout",
     "output_type": "stream",
     "text": [
      "Fetching MSFT data...\n",
      "Fetching MSFT data complete.\n"
     ]
    }
   ],
   "source": [
    "ticker = 'MSFT'\n",
    "df = fetch_yfinance_data(ticker, history=252)"
   ]
  },
  {
   "cell_type": "code",
   "execution_count": null,
   "metadata": {},
   "outputs": [],
   "source": []
  }
 ],
 "metadata": {
  "kernelspec": {
   "display_name": "Python 3",
   "language": "python",
   "name": "python3"
  },
  "language_info": {
   "codemirror_mode": {
    "name": "ipython",
    "version": 3
   },
   "file_extension": ".py",
   "mimetype": "text/x-python",
   "name": "python",
   "nbconvert_exporter": "python",
   "pygments_lexer": "ipython3",
   "version": "3.7.4"
  }
 },
 "nbformat": 4,
 "nbformat_minor": 2
}
